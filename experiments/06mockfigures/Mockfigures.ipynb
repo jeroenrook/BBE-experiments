{
 "cells": [
  {
   "cell_type": "code",
   "execution_count": 3,
   "metadata": {
    "collapsed": true
   },
   "outputs": [],
   "source": [
    "import numpy as np\n",
    "import pandas as pd\n",
    "import matplotlib.pyplot as plt\n",
    "import matplotlib\n",
    "import seaborn as sns\n",
    "import scikit_posthocs as sp\n",
    "from scipy import stats\n",
    "import re\n",
    "import os\n",
    "import math\n",
    "#import Orange\n",
    "import copy\n",
    "import itertools\n",
    "import matplotlib\n",
    "matplotlib.rcParams['pdf.fonttype'] = 42\n",
    "matplotlib.rcParams['ps.fonttype'] = 42\n",
    "\n",
    "#matplotlib.use(\"pgf\")\n",
    "matplotlib.rcParams.update({\n",
    "    #\"pgf.texsystem\": \"pdflatex\",\n",
    "    'font.family': 'serif',\n",
    "    #'text.usetex': True,\n",
    "    #'pgf.rcfonts': False,\n",
    "})\n",
    "\n",
    "from matplotlib.patches import ConnectionPatch"
   ]
  },
  {
   "cell_type": "code",
   "execution_count": 11,
   "outputs": [
    {
     "name": "stdout",
     "output_type": "stream",
     "text": [
      "[[0.97914166 0.4967972  0.23252455 0.61073531]\n",
      " [0.52932265 0.36652717 0.95027693 0.89553442]]\n"
     ]
    },
    {
     "data": {
      "text/plain": "<Figure size 720x360 with 2 Axes>",
      "image/png": "[encoded data removed]"
     },
     "metadata": {
      "needs_background": "light"
     },
     "output_type": "display_data"
    }
   ],
   "source": [
    "fig, axs = plt.subplots(1, 2,figsize=(10,5))\n",
    "ax1 = axs[0]\n",
    "ax2 = axs[1]\n",
    "\n",
    "ax1.set_xlabel(\"$x_1$\")\n",
    "ax1.set_ylabel(\"$x_2$\")\n",
    "ax2.set_xlabel(\"$y_1$\")\n",
    "ax2.set_ylabel(\"$y_2$\")\n",
    "\n",
    "\n",
    "print([[0.4,.04], []])\n",
    "#\n",
    "#\n",
    "# ax1.plot(x,y,'ko')\n",
    "# ax2.plot(x,y,'ko')\n",
    "#\n",
    "# i = 10\n",
    "# xy = (x[i],y[i])\n",
    "# con = ConnectionPatch(xyA=xy, xyB=xy, coordsA=\"data\", coordsB=\"data\",\n",
    "#                       axesA=ax2, axesB=ax1, color=\"red\")\n",
    "# ax2.add_artist(con)\n",
    "#\n",
    "# ax1.plot(x[i],y[i],'ro',markersize=10)\n",
    "# ax2.plot(x[i],y[i],'ro',markersize=10)\n",
    "#\n",
    "#\n",
    "plt.show()"
   ],
   "metadata": {
    "collapsed": false,
    "pycharm": {
     "name": "#%%\n"
    }
   }
  },
  {
   "cell_type": "code",
   "execution_count": null,
   "outputs": [],
   "source": [],
   "metadata": {
    "collapsed": false,
    "pycharm": {
     "name": "#%%\n"
    }
   }
  }
 ],
 "metadata": {
  "kernelspec": {
   "display_name": "Python 3",
   "language": "python",
   "name": "python3"
  },
  "language_info": {
   "codemirror_mode": {
    "name": "ipython",
    "version": 2
   },
   "file_extension": ".py",
   "mimetype": "text/x-python",
   "name": "python",
   "nbconvert_exporter": "python",
   "pygments_lexer": "ipython2",
   "version": "2.7.6"
  }
 },
 "nbformat": 4,
 "nbformat_minor": 0
}